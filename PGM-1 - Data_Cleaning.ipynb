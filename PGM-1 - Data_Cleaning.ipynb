{
 "cells": [
  {
   "cell_type": "code",
   "execution_count": 6,
   "source": [
    "import pandas as pd\r\n",
    "\r\n",
    "# Import Sales Transaction file and Customer file\r\n",
    "sales_2017_df = pd.read_csv('Sales Transactions-2017.csv')\r\n",
    "sales_2018_df = pd.read_csv('Sales Transactions-2018.csv')\r\n",
    "sales_2019_df = pd.read_csv('Sales Transactions-2019.csv')"
   ],
   "outputs": [],
   "metadata": {}
  },
  {
   "cell_type": "markdown",
   "source": [
    "# Perform Data Cleaning (Drop columns and rows and cosmetic changes)"
   ],
   "metadata": {}
  },
  {
   "cell_type": "code",
   "execution_count": 7,
   "source": [
    "# Concatenate all the Sales dataframes\r\n",
    "full_sales_df = pd.concat([sales_2017_df, sales_2018_df, sales_2019_df], ignore_index=True,sort=False)\r\n",
    "\r\n",
    "# Drop the Columns Gross, Disc, Voucher Amount, using drop() method on the specific columns\r\n",
    "sales_df = full_sales_df.drop(columns=['Gross','Disc','Voucher Amount'],axis=1)\r\n",
    "\r\n",
    "# Drop the Rows with Date column being NaN (Null) or Spaces, using dropna() method and subset as only Date column\r\n",
    "sales_df = sales_df[sales_df['Date'] != ' '].dropna(subset=['Date'])\r\n",
    "\r\n",
    "# Convert the Date format from DD/MM/YYYY to YYYY/MM/DD (input date is with Day First), using to_datetime method\r\n",
    "sales_df['Date'] = pd.to_datetime(sales_df['Date'],dayfirst=True)\r\n",
    "\r\n",
    "# Remove the string'Sal:' from Voucher column, using .str.slice(start,stop,step) method\r\n",
    "sales_df['Voucher'] = sales_df['Voucher'].str.slice(start=4,stop=None,step=1).astype(int)\r\n",
    "\r\n",
    "# Covert the Party column into uppercase\r\n",
    "sales_df['Party'] = sales_df['Party'].str.upper()\r\n",
    "\r\n",
    "# Covert the Product column into uppercase\r\n",
    "sales_df['Product'] = sales_df['Product'].str.upper()\r\n",
    "\r\n",
    "# Convert the Qty column into an integer (Data has the entries with ',' and '.00') - Assuming Quantity can only be an integer\r\n",
    "sales_df['Qty'] = sales_df['Qty'].str.replace(',','').astype(float).astype(int)\r\n",
    "\r\n",
    "# Eliminate ',' in the Rate column\r\n",
    "sales_df['Rate'] = sales_df['Rate'].str.replace(',','').astype(float)\r\n",
    "\r\n",
    "# Convert the Rate column into float variable with e decimal points\r\n",
    "#sales_df['Rate'] = sales_df['Rate'].apply(lambda x: round(x, 2))\r\n",
    "\r\n",
    "# Sort the Sales Transaction file in the order of Date and Voucher\r\n",
    "sales_df = sales_df.sort_values(['Date','Voucher'])"
   ],
   "outputs": [],
   "metadata": {}
  },
  {
   "cell_type": "markdown",
   "source": [
    "# Write Edited Sales Transaction Data into .csv file"
   ],
   "metadata": {}
  },
  {
   "cell_type": "code",
   "execution_count": 8,
   "source": [
    "# Write the Edited Sales Transaction file to .csv\r\n",
    "sales_df.to_csv('Sales-Transactions-Edited.csv',index=False)"
   ],
   "outputs": [],
   "metadata": {}
  },
  {
   "cell_type": "code",
   "execution_count": null,
   "source": [],
   "outputs": [],
   "metadata": {}
  }
 ],
 "metadata": {
  "kernelspec": {
   "display_name": "Python 3",
   "language": "python",
   "name": "python3"
  },
  "language_info": {
   "codemirror_mode": {
    "name": "ipython",
    "version": 3
   },
   "file_extension": ".py",
   "mimetype": "text/x-python",
   "name": "python",
   "nbconvert_exporter": "python",
   "pygments_lexer": "ipython3",
   "version": "3.7.3"
  }
 },
 "nbformat": 4,
 "nbformat_minor": 2
}